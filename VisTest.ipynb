{
 "cells": [
  {
   "cell_type": "code",
   "execution_count": 7,
   "id": "7a114325-c0f7-4626-88f3-adfadcb8e642",
   "metadata": {},
   "outputs": [],
   "source": [
    "import kuzu\n",
    "\n",
    "db = kuzu.Database(\"kuzu\")\n",
    "conn = kuzu.Connection(db)"
   ]
  },
  {
   "cell_type": "code",
   "execution_count": 28,
   "id": "f7911be7-2da1-48f7-854d-961e117d054c",
   "metadata": {},
   "outputs": [],
   "source": [
    "node = [\"Text\", \"Language\", \"Genre\"]\n",
    "\n",
    "nodes = \":\".join(node)\n",
    "query = f\"MATCH (n:{nodes})-[r]->(m:{nodes}) RETURN n,r,m\"\n",
    "query\n",
    "result_query = conn.execute(query)"
   ]
  },
  {
   "cell_type": "code",
   "execution_count": 29,
   "id": "741f8961-f927-41f2-8492-d9f9b4580ebc",
   "metadata": {},
   "outputs": [],
   "source": [
    "from app.utils.write_gexf import write_gexf\n",
    "\n",
    "write_gexf(result_query, \"heurist.gexf\")"
   ]
  },
  {
   "cell_type": "code",
   "execution_count": 38,
   "id": "1cee27cb-6562-415b-887e-2fa3cb152867",
   "metadata": {},
   "outputs": [
    {
     "data": {
      "application/vnd.jupyter.widget-view+json": {
       "model_id": "3b59348af26f429ebcefb8c8233a57b0",
       "version_major": 2,
       "version_minor": 0
      },
      "text/plain": [
       "Sigma(nx.DiGraph with 431 nodes and 770 edges)"
      ]
     },
     "execution_count": 38,
     "metadata": {},
     "output_type": "execute_result"
    }
   ],
   "source": [
    "from ipysigma import Sigma\n",
    "import networkx as nx\n",
    "\n",
    "f = \"heurist.gexf\"\n",
    "g = nx.read_gexf(f)\n",
    "s = Sigma(g, node_size=g.degree, node_color='language', node_label='name')\n",
    "s"
   ]
  },
  {
   "cell_type": "code",
   "execution_count": 39,
   "id": "3737a8fc-5a64-446a-8bc8-bdc8f7bf4e7d",
   "metadata": {},
   "outputs": [],
   "source": [
    "s.write_html(g, path=\"heurist.html\")"
   ]
  }
 ],
 "metadata": {
  "kernelspec": {
   "display_name": "Python 3 (ipykernel)",
   "language": "python",
   "name": "python3"
  },
  "language_info": {
   "codemirror_mode": {
    "name": "ipython",
    "version": 3
   },
   "file_extension": ".py",
   "mimetype": "text/x-python",
   "name": "python",
   "nbconvert_exporter": "python",
   "pygments_lexer": "ipython3",
   "version": "3.12.2"
  }
 },
 "nbformat": 4,
 "nbformat_minor": 5
}
